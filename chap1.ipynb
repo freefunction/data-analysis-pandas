{
 "cells": [
  {
   "cell_type": "code",
   "execution_count": 5,
   "metadata": {},
   "outputs": [
    {
     "name": "stdout",
     "output_type": "stream",
     "text": [
      "Using Python in c:\\Users\\samy-\\Documents\\data-analysis-with-pandas\\project_env:\n",
      "\u001b[42m[ OK ]\u001b[0m Python is version 3.9.12 (tags/v3.9.12:b28265d, Mar 23 2022, 23:52:46) [MSC v.1929 64 bit (AMD64)]\n",
      "\n"
     ]
    },
    {
     "ename": "FileNotFoundError",
     "evalue": "[Errno 2] No such file or directory: '../requirements.txt'",
     "output_type": "error",
     "traceback": [
      "\u001b[1;31m---------------------------------------------------------------------------\u001b[0m",
      "\u001b[1;31mFileNotFoundError\u001b[0m                         Traceback (most recent call last)",
      "\u001b[1;32mc:\\Users\\samy-\\Documents\\data-analysis-with-pandas\\chap1.ipynb Cell 1'\u001b[0m in \u001b[0;36m<cell line: 3>\u001b[1;34m()\u001b[0m\n\u001b[0;32m      <a href='vscode-notebook-cell:/c%3A/Users/samy-/Documents/data-analysis-with-pandas/chap1.ipynb#ch0000000?line=0'>1</a>\u001b[0m \u001b[39mfrom\u001b[39;00m \u001b[39mcheck_environment\u001b[39;00m \u001b[39mimport\u001b[39;00m run_checks\n\u001b[1;32m----> <a href='vscode-notebook-cell:/c%3A/Users/samy-/Documents/data-analysis-with-pandas/chap1.ipynb#ch0000000?line=2'>3</a>\u001b[0m run_checks()\n",
      "File \u001b[1;32mc:\\Users\\samy-\\Documents\\data-analysis-with-pandas\\check_environment.py:24\u001b[0m, in \u001b[0;36mrun_checks\u001b[1;34m()\u001b[0m\n\u001b[0;32m     <a href='file:///c%3A/Users/samy-/Documents/data-analysis-with-pandas/check_environment.py?line=20'>21</a>\u001b[0m     \u001b[39mprint\u001b[39m(FAIL, \u001b[39m'\u001b[39m\u001b[39mPython version 3.7.1+ is required, but \u001b[39m\u001b[39m%s\u001b[39;00m\u001b[39m is installed.\u001b[39m\u001b[39m\\n\u001b[39;00m\u001b[39m'\u001b[39m \u001b[39m%\u001b[39m sys\u001b[39m.\u001b[39mversion)\n\u001b[0;32m     <a href='file:///c%3A/Users/samy-/Documents/data-analysis-with-pandas/check_environment.py?line=22'>23</a>\u001b[0m \u001b[39m# read in the requirements\u001b[39;00m\n\u001b[1;32m---> <a href='file:///c%3A/Users/samy-/Documents/data-analysis-with-pandas/check_environment.py?line=23'>24</a>\u001b[0m \u001b[39mwith\u001b[39;00m \u001b[39mopen\u001b[39;49m(\u001b[39m'\u001b[39;49m\u001b[39m../requirements.txt\u001b[39;49m\u001b[39m'\u001b[39;49m, \u001b[39m'\u001b[39;49m\u001b[39mr\u001b[39;49m\u001b[39m'\u001b[39;49m) \u001b[39mas\u001b[39;00m file:\n\u001b[0;32m     <a href='file:///c%3A/Users/samy-/Documents/data-analysis-with-pandas/check_environment.py?line=24'>25</a>\u001b[0m     requirements \u001b[39m=\u001b[39m {}\n\u001b[0;32m     <a href='file:///c%3A/Users/samy-/Documents/data-analysis-with-pandas/check_environment.py?line=25'>26</a>\u001b[0m     \u001b[39mfor\u001b[39;00m line \u001b[39min\u001b[39;00m file\u001b[39m.\u001b[39mread()\u001b[39m.\u001b[39msplitlines():\n",
      "\u001b[1;31mFileNotFoundError\u001b[0m: [Errno 2] No such file or directory: '../requirements.txt'"
     ]
    }
   ],
   "source": [
    "from check_environment import run_checks\n",
    "\n",
    "run_checks()"
   ]
  },
  {
   "cell_type": "code",
   "execution_count": null,
   "metadata": {},
   "outputs": [],
   "source": []
  }
 ],
 "metadata": {
  "interpreter": {
   "hash": "bb5dbd7ccfd5634a53f80101c4114a5423d3a308c84e26d46c386d168e5fd67b"
  },
  "kernelspec": {
   "display_name": "Python 3.9.12 ('project_env': venv)",
   "language": "python",
   "name": "python3"
  },
  "language_info": {
   "codemirror_mode": {
    "name": "ipython",
    "version": 3
   },
   "file_extension": ".py",
   "mimetype": "text/x-python",
   "name": "python",
   "nbconvert_exporter": "python",
   "pygments_lexer": "ipython3",
   "version": "3.9.12"
  },
  "orig_nbformat": 4
 },
 "nbformat": 4,
 "nbformat_minor": 2
}
